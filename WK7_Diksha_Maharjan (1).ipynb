{
  "nbformat": 4,
  "nbformat_minor": 0,
  "metadata": {
    "colab": {
      "provenance": []
    },
    "kernelspec": {
      "name": "python3",
      "display_name": "Python 3"
    },
    "language_info": {
      "name": "python"
    }
  },
  "cells": [
    {
      "cell_type": "markdown",
      "source": [
        "regression task"
      ],
      "metadata": {
        "id": "LZiic2xb5Cut"
      }
    },
    {
      "cell_type": "code",
      "execution_count": null,
      "metadata": {
        "colab": {
          "base_uri": "https://localhost:8080/"
        },
        "id": "0IXqRuFWzqzG",
        "outputId": "75973a17-da7a-41fc-e267-d6afebe0a30c"
      },
      "outputs": [
        {
          "output_type": "stream",
          "name": "stdout",
          "text": [
            "Drive already mounted at /content/drive; to attempt to forcibly remount, call drive.mount(\"/content/drive\", force_remount=True).\n",
            "     Pregnancies  Glucose  SkinThickness  Insulin   BMI  Age  \\\n",
            "0              6      148             35        0  33.6   50   \n",
            "1              1       85             29        0  26.6   31   \n",
            "2              8      183              0        0  23.3   32   \n",
            "3              1       89             23       94  28.1   21   \n",
            "4              0      137             35      168  43.1   33   \n",
            "..           ...      ...            ...      ...   ...  ...   \n",
            "763           10      101             48      180  32.9   63   \n",
            "764            2      122             27        0  36.8   27   \n",
            "765            5      121             23      112  26.2   30   \n",
            "766            1      126              0        0  30.1   47   \n",
            "767            1       93             31        0  30.4   23   \n",
            "\n",
            "     DiabetesPedigreeFunction  \n",
            "0                       0.627  \n",
            "1                       0.351  \n",
            "2                       0.672  \n",
            "3                       0.167  \n",
            "4                       2.288  \n",
            "..                        ...  \n",
            "763                     0.171  \n",
            "764                     0.340  \n",
            "765                     0.245  \n",
            "766                     0.349  \n",
            "767                     0.315  \n",
            "\n",
            "[768 rows x 7 columns]\n",
            "Pregnancies                 0\n",
            "Glucose                     0\n",
            "BloodPressure               0\n",
            "SkinThickness               0\n",
            "Insulin                     0\n",
            "BMI                         0\n",
            "DiabetesPedigreeFunction    0\n",
            "Age                         0\n",
            "Outcome                     0\n",
            "dtype: int64\n"
          ]
        }
      ],
      "source": [
        "from google.colab import drive\n",
        "drive.mount('/content/drive')\n",
        "\n",
        "import pandas as pd\n",
        "import numpy as np\n",
        "\n",
        "filepath=\"/content/drive/MyDrive/sem3ai/diabetes.csv\"\n",
        "df=pd.read_csv(filepath)\n",
        "df.head()\n",
        "feature_cols=['Pregnancies', 'Glucose', 'SkinThickness','Insulin','BMI','Age','DiabetesPedigreeFunction']\n",
        "X=df[feature_cols]#features\n",
        "print(X)\n",
        "y=df.BloodPressure#target variables\n",
        "print(df.isnull().sum())\n",
        "#no need for data filling"
      ]
    },
    {
      "cell_type": "code",
      "source": [
        "from sklearn.model_selection import train_test_split #to split training and testing data\n",
        "\n",
        "X_train_reg, X_test_reg, y_train_reg, y_test_reg = train_test_split(X, y, test_size=0.2, random_state=42)\n"
      ],
      "metadata": {
        "id": "0epvt7ym1lR4"
      },
      "execution_count": null,
      "outputs": []
    },
    {
      "cell_type": "code",
      "source": [
        "from sklearn.linear_model import LinearRegression\n",
        "from sklearn.metrics import mean_squared_error, r2_score\n",
        "\n",
        "# Train\n",
        "linear_regressor = LinearRegression()\n",
        "linear_regressor.fit(X_train_reg, y_train_reg)  #fit is used to train the model by finding the best fitting line betn featyres and target (minimize difference between actual and predicted target) i.e. ml learns the patterns in the data\n",
        "\n",
        "# Predict on test data\n",
        "y_pred_reg = linear_regressor.predict(X_test_reg)\n",
        "\n",
        "# Evaluate\n",
        "print(\"Regression Task:\")\n",
        "print(\"Mean Squared Error (MSE):\", mean_squared_error(y_test_reg, y_pred_reg))\n",
        "print(\"R2 Score:\", r2_score(y_test_reg, y_pred_reg))\n"
      ],
      "metadata": {
        "colab": {
          "base_uri": "https://localhost:8080/"
        },
        "id": "bOdW206w2wOK",
        "outputId": "247c5e2d-d18b-47ae-902c-2e6e2fcca09c"
      },
      "execution_count": null,
      "outputs": [
        {
          "output_type": "stream",
          "name": "stdout",
          "text": [
            "Regression Task:\n",
            "Mean Squared Error (MSE): 408.8020357692284\n",
            "R2 Score: 0.1821346640077789\n"
          ]
        }
      ]
    },
    {
      "cell_type": "markdown",
      "source": [
        "classification task"
      ],
      "metadata": {
        "id": "QAUDAAyw3ewX"
      }
    },
    {
      "cell_type": "markdown",
      "source": [
        "logistic regression"
      ],
      "metadata": {
        "id": "6erDokFo-ivx"
      }
    },
    {
      "cell_type": "code",
      "source": [
        "X_clf = df.drop(columns=['Outcome'])  #feature\n",
        "y_clf = df['Outcome']  #target\n",
        "\n",
        "X_train_clf, X_test_clf, y_train_clf, y_test_clf = train_test_split(X_clf, y_clf, test_size=0.2, random_state=42)\n"
      ],
      "metadata": {
        "id": "_1PwWKcR3maT"
      },
      "execution_count": null,
      "outputs": []
    },
    {
      "cell_type": "code",
      "source": [
        "from sklearn.linear_model import LogisticRegression\n",
        "from sklearn.metrics import accuracy_score, precision_score, recall_score, f1_score, confusion_matrix\n",
        "\n",
        "#Train\n",
        "logistic_regressor = LogisticRegression(max_iter=1000)\n",
        "logistic_regressor.fit(X_train_clf, y_train_clf) #fit:train data\n",
        "\n",
        "#Predict/test\n",
        "y_pred_clf_log = logistic_regressor.predict(X_test_clf)\n",
        "\n",
        "#Evaluate\n",
        "print(\"\\nClassification Task (Logistic Regression):\")\n",
        "print(\"Accuracy:\", accuracy_score(y_test_clf, y_pred_clf_log))\n",
        "print(\"Precision:\", precision_score(y_test_clf, y_pred_clf_log))  #tp/(tp+fp)(high precision means fewer false alarms)\n",
        "print(\"Recall:\", recall_score(y_test_clf, y_pred_clf_log))    #tp/(tp+fn)(high recall means less missed positives)\n",
        "print(\"F1 Score:\", f1_score(y_test_clf, y_pred_clf_log))     #if any of above 2 are low, it will also be low...(2(precision.recall)/precision+recall)\n",
        "print(\"Confusion Matrix:\\n\", confusion_matrix(y_test_clf, y_pred_clf_log)) #num of predictions in each category(TN, TP, FN, FP)\n"
      ],
      "metadata": {
        "colab": {
          "base_uri": "https://localhost:8080/"
        },
        "id": "K9L0dNtM24pg",
        "outputId": "65c06eda-f2e5-44ea-8429-e3d8efd3058a"
      },
      "execution_count": null,
      "outputs": [
        {
          "output_type": "stream",
          "name": "stdout",
          "text": [
            "\n",
            "Classification Task (Logistic Regression):\n",
            "Accuracy: 0.7467532467532467\n",
            "Precision: 0.6379310344827587\n",
            "Recall: 0.6727272727272727\n",
            "F1 Score: 0.6548672566371682\n",
            "Confusion Matrix:\n",
            " [[78 21]\n",
            " [18 37]]\n"
          ]
        }
      ]
    }
  ]
}