{
  "nbformat": 4,
  "nbformat_minor": 0,
  "metadata": {
    "colab": {
      "provenance": []
    },
    "kernelspec": {
      "name": "python3",
      "display_name": "Python 3"
    },
    "language_info": {
      "name": "python"
    }
  },
  "cells": [
    {
      "cell_type": "code",
      "source": [
        "\"\"\"def softmax(z):\n",
        "\n",
        "    Compute softmax probabilities from logits.\n",
        "    prevent numerical instability by subtracting the maximum value from z before exponentiating.\n",
        "    Parameters:\n",
        "    z (np.ndarray): Input logits, shape (n_samples, n_classes).\n",
        "\n",
        "    Returns:\n",
        "    np.ndarray: Softmax probabilities, shape (n_samples, n_classes).\n",
        "\n",
        "    exp_z = np.exp(z - np.max(z, axis=1, keepdims=True))  # Subtract max for numerical stability\n",
        "    return exp_z / np.sum(exp_z, axis=1, keepdims=True)\n",
        "\"\"\"\n"
      ],
      "metadata": {
        "id": "RMCV4Xc-zUGJ",
        "colab": {
          "base_uri": "https://localhost:8080/",
          "height": 122
        },
        "outputId": "894d287d-957e-4c0c-97f2-27f98c8eea5a"
      },
      "execution_count": null,
      "outputs": [
        {
          "output_type": "execute_result",
          "data": {
            "text/plain": [
              "'def softmax(z):\\n    \\n    Compute softmax probabilities from logits.\\n    prevent numerical instability by subtracting the maximum value from z before exponentiating.\\n    Parameters:\\n    z (np.ndarray): Input logits, shape (n_samples, n_classes).\\n\\n    Returns:\\n    np.ndarray: Softmax probabilities, shape (n_samples, n_classes).\\n  \\n    exp_z = np.exp(z - np.max(z, axis=1, keepdims=True))  # Subtract max for numerical stability\\n    return exp_z / np.sum(exp_z, axis=1, keepdims=True)\\n'"
            ],
            "application/vnd.google.colaboratory.intrinsic+json": {
              "type": "string"
            }
          },
          "metadata": {},
          "execution_count": 26
        }
      ]
    },
    {
      "cell_type": "code",
      "source": [
        "\n",
        "def test_softmax():\n",
        "    \"\"\"\n",
        "    Perform basic assertion tests on the softmax function to validate its correctness.\n",
        "\n",
        "    Tests:\n",
        "    - Ensure that the output probabilities sum to 1 for each row.\n",
        "    - Ensure non-negative values (all probabilities should be >= 0).\n",
        "    - Test on edge cases (e.g., all zeros, very large or small values).\n",
        "    \"\"\"\n",
        "    # Test input\n",
        "    test_cases = [\n",
        "        (np.array([[0, 0, 0]]), \"All zeros\"),\n",
        "        (np.array([[1, 2, 3]]), \"Simple case\"),\n",
        "        (np.array([[1000, 1000, 1000]]), \"Large identical values\"),\n",
        "        (np.array([[-1000, -1000, -1000]]), \"Small identical values\"),\n",
        "        (np.array([[1, 0, -1]]), \"Mixed positive and negative\")\n",
        "    ]\n",
        "\n",
        "    for i, (z, description) in enumerate(test_cases):\n",
        "        print(f\"Test {i + 1}: {description}\")\n",
        "        result = softmax(z)\n",
        "\n",
        "        # Check that probabilities sum to 1\n",
        "        assert np.allclose(result.sum(axis=1), 1), f\"Failed: Probabilities do not sum to 1 in {description}\"\n",
        "\n",
        "        # Check non-negativity\n",
        "        assert np.all(result >= 0), f\"Failed: Negative probabilities in {description}\"\n",
        "\n",
        "        print(\"Passed.\")\n",
        "\n",
        "    print(\"All tests passed for softmax function.\")\n",
        "# Run the test\n",
        "test_softmax()\n"
      ],
      "metadata": {
        "colab": {
          "base_uri": "https://localhost:8080/"
        },
        "id": "uIkIeoQ8xsA7",
        "outputId": "025596e7-595b-4a4f-8452-27991159dea1"
      },
      "execution_count": null,
      "outputs": [
        {
          "output_type": "stream",
          "name": "stdout",
          "text": [
            "Test 1: All zeros\n",
            "Passed.\n",
            "Test 2: Simple case\n",
            "Passed.\n",
            "Test 3: Large identical values\n",
            "Passed.\n",
            "Test 4: Small identical values\n",
            "Passed.\n",
            "Test 5: Mixed positive and negative\n",
            "Passed.\n",
            "All tests passed for softmax function.\n"
          ]
        }
      ]
    },
    {
      "cell_type": "code",
      "source": [
        "def loss_softmax(y_true, y_pred):\n",
        "    \"\"\"\n",
        "    Compute the cross-entropy loss for a single observation.\n",
        "\n",
        "    Parameters:\n",
        "    y_true (numpy.ndarray): True labels (one-hot encoded) of shape (c,).\n",
        "    y_pred (numpy.ndarray): Predicted probabilities of shape (c,).\n",
        "\n",
        "    Returns:\n",
        "    float: Cross-entropy loss for the observation.\n",
        "    \"\"\"\n",
        "    # Add epsilon to prevent log(0) and calculate cross-entropy loss\n",
        "    return -np.sum(y_true * np.log(y_pred + 1e-10))  # Add small epsilon for numerical stability\n",
        "\n",
        "\n"
      ],
      "metadata": {
        "id": "5BgZTVzuxrzL"
      },
      "execution_count": null,
      "outputs": []
    },
    {
      "cell_type": "code",
      "source": [
        "def test_loss_softmax():\n",
        "    \"\"\"\n",
        "    Test the loss_softmax function using a known input and output.\n",
        "    \"\"\"\n",
        "    # Test Case 1: Perfect prediction\n",
        "    y_true = np.array([0, 1, 0])  # True label (one-hot encoded)\n",
        "    y_pred = np.array([0.1, 0.8, 0.1])  # Predicted probabilities\n",
        "    expected_loss = -np.log(0.8)  # Expected loss for perfect prediction\n",
        "    assert np.isclose(loss_softmax(y_true, y_pred), expected_loss), \"Test Case 1 Failed\"\n",
        "\n",
        "    # Test Case 2: Incorrect prediction\n",
        "    y_true = np.array([1, 0, 0])  # True label (one-hot encoded)\n",
        "    y_pred = np.array([0.3, 0.4, 0.3])  # Predicted probabilities\n",
        "    expected_loss = -np.log(0.3)  # Expected loss for incorrect prediction\n",
        "    assert np.isclose(loss_softmax(y_true, y_pred), expected_loss), \"Test Case 2 Failed\"\n",
        "\n",
        "    # Test Case 3: Edge case with near-zero probability\n",
        "    y_true = np.array([0, 1, 0])  # True label (one-hot encoded)\n",
        "    y_pred = np.array([0.01, 0.98, 0.01])  # Predicted probabilities\n",
        "    expected_loss = -np.log(0.98)  # Expected loss for edge case\n",
        "    assert np.isclose(loss_softmax(y_true, y_pred), expected_loss), \"Test Case 3 Failed\"\n",
        "\n",
        "    print(\"All test cases passed!\")\n",
        "# Run the test\n",
        "test_loss_softmax()\n"
      ],
      "metadata": {
        "colab": {
          "base_uri": "https://localhost:8080/"
        },
        "id": "-W_4Gflvx094",
        "outputId": "0db2c698-ce50-480e-928e-af684a2a4e0b"
      },
      "execution_count": null,
      "outputs": [
        {
          "output_type": "stream",
          "name": "stdout",
          "text": [
            "All test cases passed!\n"
          ]
        }
      ]
    },
    {
      "cell_type": "code",
      "source": [
        "\n",
        "\n",
        "#Implementation of Cost Function(Average Loss)\n",
        "import numpy as np\n",
        "def cost_softmax(X, y, W, b):\n",
        "  \"\"\"\n",
        "  Compute the average cross-entropy cost over all samples\n",
        "\n",
        "  Parameters:\n",
        "  X (numpy.ndarray): Feature matrix of shape (n, d)\n",
        "  y (numpy.ndarray): True labels (one-hot encoded) of shape (n,c)\n",
        "  W (numpy.ndarray): Weight matrix of shape (d,c)\n",
        "  b (numpy.ndarray): Bias vector of shape (c,)\n",
        "\n",
        "  Returns:\n",
        "  float: Average cross-entropy cost over all samples.\n",
        "  \"\"\"\n",
        "  n,d = X.shape\n",
        "  z = np.dot(X,W) + b\n",
        "  y_pred = softmax(z)\n",
        "  return -np.sum(y * np.log(y_pred + 1e-10)) / n\n",
        "\n"
      ],
      "metadata": {
        "id": "4XpOfh01x0xB"
      },
      "execution_count": null,
      "outputs": []
    },
    {
      "cell_type": "code",
      "source": [
        "\n",
        "\n",
        "def test_cost_softmax():\n",
        "    \"\"\"\n",
        "    Test the cost_softmax function using a known input and output.\n",
        "    \"\"\"\n",
        "    # Test Case 1: Small dataset with perfect predictions\n",
        "    X = np.array([[1, 2], [2, 3], [3, 4]])  # Feature matrix (n=3, d=2)\n",
        "    y = np.array([[1, 0], [0, 1], [1, 0]])  # True labels (n=3, c=2, one-hot encoded)\n",
        "    W = np.array([[1, -1], [-1, 1]])  # Weight matrix (d=2, c=2)\n",
        "    b = np.array([0, 0])  # Bias vector (c=2)\n",
        "\n",
        "    z = np.dot(X, W) + b\n",
        "    y_pred = softmax(z)  # Predicted probabilities\n",
        "\n",
        "    # Compute expected cost using cross-entropy loss\n",
        "    expected_cost = -np.sum(y * np.log(y_pred + 1e-10)) / X.shape[0]  # Adding a small epsilon for stability\n",
        "\n",
        "    # Assert that the computed cost matches the expected cost\n",
        "    assert np.isclose(cost_softmax(X, y, W, b), expected_cost), \"Test Case 1 Failed\"\n",
        "\n",
        "    # Test Case 2: All-zero weights and bias\n",
        "    X = np.array([[1, 0], [0, 1], [1, 1]])  # Feature matrix (n=3, d=2)\n",
        "    y = np.array([[1, 0], [0, 1], [1, 0]])  # True labels (n=3, c=2, one-hot encoded)\n",
        "    W = np.zeros((2, 2))  # Zero weight matrix\n",
        "    b = np.zeros(2)  # Zero bias vector\n",
        "\n",
        "    z = np.dot(X, W) + b\n",
        "    y_pred = softmax(z)  # Predicted probabilities (uniform distribution)\n",
        "\n",
        "    # Compute expected cost using cross-entropy loss\n",
        "    expected_cost = -np.sum(y * np.log(y_pred + 1e-10)) / X.shape[0]  # Adding a small epsilon for stability\n",
        "\n",
        "    # Assert that the computed cost matches the expected cost\n",
        "    assert np.isclose(cost_softmax(X, y, W, b), expected_cost), \"Test Case 2 Failed\"\n",
        "\n",
        "    # If both assertions pass\n",
        "    print(\"All test cases passed!\")\n",
        "\n",
        "# Run the test\n",
        "test_cost_softmax()\n"
      ],
      "metadata": {
        "colab": {
          "base_uri": "https://localhost:8080/"
        },
        "id": "1xUZqWxOyDjY",
        "outputId": "d5230676-14ee-4775-8862-ee8f5c1df87e"
      },
      "execution_count": null,
      "outputs": [
        {
          "output_type": "stream",
          "name": "stdout",
          "text": [
            "All test cases passed!\n"
          ]
        }
      ]
    },
    {
      "cell_type": "code",
      "source": [
        "import numpy as np\n",
        "\n",
        "def softmax(z):\n",
        "    \"\"\"\n",
        "    Compute softmax probabilities from logits.\n",
        "\n",
        "    Parameters:\n",
        "    z (np.ndarray): Input logits, shape (n_samples, n_classes).\n",
        "\n",
        "    Returns:\n",
        "    np.ndarray: Softmax probabilities, shape (n_samples, n_classes).\n",
        "    \"\"\"\n",
        "    exp_z = np.exp(z - np.max(z, axis=1, keepdims=True))  # Subtract max for numerical stability\n",
        "    return exp_z / np.sum(exp_z, axis=1, keepdims=True)\n",
        "\n",
        "\n",
        "def compute_gradient_softmax(X, y, W, b):\n",
        "    \"\"\"\n",
        "    Compute the gradients of the cost function with respect to weights and biases.\n",
        "\n",
        "    Parameters:\n",
        "    X (numpy.ndarray): Feature matrix of shape (n, d).\n",
        "    y (numpy.ndarray): True labels (one-hot encoded) of shape (n, c).\n",
        "    W (numpy.ndarray): Weight matrix of shape (d, c).\n",
        "    b (numpy.ndarray): Bias vector of shape (c,).\n",
        "\n",
        "    Returns:\n",
        "    tuple: Gradients with respect to weights (d, c) and biases (c,).\n",
        "    \"\"\"\n",
        "    n, d = X.shape\n",
        "    z = np.dot(X, W) + b\n",
        "    y_pred = softmax(z)\n",
        "\n",
        "    grad_W = np.dot(X.T, (y_pred - y)) / n\n",
        "    grad_b = np.sum(y_pred - y, axis=0) / n\n",
        "\n",
        "    return grad_W, grad_b\n",
        "\n",
        "\n",
        "def test_compute_gradient_softmax():\n",
        "    \"\"\"\n",
        "    Test the compute_gradient_softmax function using known input and output.\n",
        "    \"\"\"\n",
        "    # Define simple inputs\n",
        "    X = np.array([[1, 2], [3, 4]])  # Shape (2, 2)\n",
        "    y = np.array([[1, 0], [0, 1]])  # Shape (2, 2), one-hot encoded\n",
        "    W = np.array([[0.1, 0.2], [0.3, 0.4]])  # Shape (2, 2)\n",
        "    b = np.array([0.01, 0.02])  # Shape (2,)\n",
        "\n",
        "    # Expected gradients (calculated manually or using a reference implementation)\n",
        "    z = np.dot(X, W) + b\n",
        "    y_pred = softmax(z)\n",
        "\n",
        "    grad_W_expected = np.dot(X.T, (y_pred - y)) / X.shape[0]\n",
        "    grad_b_expected = np.sum(y_pred - y, axis=0) / X.shape[0]\n",
        "\n",
        "    # Compute gradients using the function\n",
        "    grad_W, grad_b = compute_gradient_softmax(X, y, W, b)\n",
        "\n",
        "    # Assertions\n",
        "    assert np.allclose(grad_W, grad_W_expected, atol=1e-6), \"Gradient W does not match expected values\"\n",
        "    assert np.allclose(grad_b, grad_b_expected, atol=1e-6), \"Gradient b does not match expected values\"\n",
        "\n",
        "    print(\"All tests passed for compute_gradient_softmax!\")\n",
        "\n",
        "\n",
        "# Run the test\n",
        "test_compute_gradient_softmax()\n"
      ],
      "metadata": {
        "colab": {
          "base_uri": "https://localhost:8080/"
        },
        "id": "GdVNMCcA4n9-",
        "outputId": "89e751f2-7659-46a4-d7e6-cdf98567f81b"
      },
      "execution_count": null,
      "outputs": [
        {
          "output_type": "stream",
          "name": "stdout",
          "text": [
            "All tests passed for compute_gradient_softmax!\n"
          ]
        }
      ]
    },
    {
      "cell_type": "code",
      "source": [
        "import numpy as np\n",
        "import matplotlib.pyplot as plt\n",
        "\n",
        "\n",
        "# Cost function (Cross-Entropy Loss)\n",
        "# Calculate train and test costs using negative log-likelihood\n",
        "def cost_softmax(X, y, W, b):\n",
        "    \"\"\"Compute softmax cost.\"\"\"\n",
        "    logits = np.dot(X, W) + b\n",
        "    exp_logits = np.exp(logits - np.max(logits, axis=1, keepdims=True))\n",
        "    probs = exp_logits / np.sum(exp_logits, axis=1, keepdims=True)\n",
        "    log_probs = np.log(probs + 1e-10)\n",
        "    cost = -np.sum(y * log_probs) / X.shape[0]\n",
        "    return cost\n"
      ],
      "metadata": {
        "id": "THZ-5V9NyPRi"
      },
      "execution_count": null,
      "outputs": []
    },
    {
      "cell_type": "code",
      "source": [
        "\n",
        "# Gradient computation\n",
        "def compute_gradient_softmax(X, y, W, b):\n",
        "    \"\"\"\n",
        "    Compute the gradients of the cost function with respect to weights and biases.\n",
        "    \"\"\"\n",
        "    n, d = X.shape\n",
        "    z = np.dot(X, W) + b\n",
        "    y_pred = softmax(z)\n",
        "\n",
        "    grad_W = np.dot(X.T, (y_pred - y)) / n\n",
        "    grad_b = np.sum(y_pred - y, axis=0) / n\n",
        "\n",
        "    return grad_W, grad_b\n",
        "\n"
      ],
      "metadata": {
        "id": "WAZFfDqOyQcT"
      },
      "execution_count": null,
      "outputs": []
    },
    {
      "cell_type": "code",
      "source": [
        "\n",
        "# A simple assertion test for compute_gradient function\n",
        "def test_compute_gradient_softmax():\n",
        "  # define simple inputs\n",
        "  X = np.array([[1,2], [3,4]]) #shape (2,,2)\n",
        "  y = np.array([[1,0], [0,1]]) #shape (2,2), one-hot encoded\n",
        "  W = np.array([[0.1, 0.2], [0.3, 0.4]]) #shape (2,2)\n",
        "  b = np.array([0.01, 0.02]) #shape (2,)\n",
        "  # expected gradients (calculated manually or using a reference implementation)\n",
        "  z = np.dot(X,W) + b\n",
        "  y_pred = softmax(z)\n",
        "  grad_W_expected = np.dot(X.T, (y_pred - y)) / X.shape[0]\n",
        "  grad_b_expected = np.sum(y_pred - y, axis=0) / X.shape[0]\n",
        "  # compute gradients using the function\n",
        "  grad_W, grad_b = compute_gradient_softmax(X, y, W, b)\n",
        "  # assertions\n",
        "  assert np.allclose(grad_W, grad_W_expected, atol=1e-6), \"Gradient W does not match excted values\"\n",
        "  assert np.allclose(grad_b, grad_b_expected, atol=1e-6), \"Gradient b does not match expected values\"\n",
        "  #atol=1e-6: value for absolute tolerance\n",
        "\n",
        "  print(\"All tests passed for compute_gradient_softmax!\")\n",
        "# Run the test\n",
        "test_compute_gradient_softmax()\n"
      ],
      "metadata": {
        "colab": {
          "base_uri": "https://localhost:8080/"
        },
        "id": "_d0AvgRNyVrF",
        "outputId": "82f8258c-461b-49ba-bded-953b22cfa76a"
      },
      "execution_count": null,
      "outputs": [
        {
          "output_type": "stream",
          "name": "stdout",
          "text": [
            "All tests passed for compute_gradient_softmax!\n"
          ]
        }
      ]
    },
    {
      "cell_type": "code",
      "source": [
        "#4.2. Gradient Descent for Softmax Regression\n",
        "def gradient_descent_softmax(X, y, W, b, alpha, n_iter, show_cost=False):\n",
        "  \"\"\"\n",
        "  Perform gradient descent to optimize the weights and biases.\n",
        "\n",
        "  Parameters\n",
        "  X (numpy.ndarray): Feature matrix of shape (n, d)\n",
        "  y (numpy.ndarray): True labels (one-hot encoded) of shape (n,c)\n",
        "  W (numpy.ndarray): Weight matrix of shape (d,c)\n",
        "  b (numpy.ndarray): Bias vector of shape (c,)\n",
        "  alpha (float): Learning rate\n",
        "  n_iter (int): Number of iterations\n",
        "  show_cost (bool): Whether to display the cost at intervals\n",
        "\n",
        "  Returns:\n",
        "  tuple: Optimized weights, biases, and cost history\n",
        "  \"\"\"\n",
        "  cost_history =[]\n",
        "  for i in range(n_iter):\n",
        "    grad_W, grad_b = compute_gradient_softmax(X, y, W, b)\n",
        "    W -= alpha * grad_W\n",
        "    b -= alpha * grad_b\n",
        "    cost = cost_softmax(X, y, W, b)\n",
        "    cost_history.append(cost)\n",
        "    # if show_cost and (i % 100 == 0 or i == n_iter - 1):\n",
        "    #   print(f\"Iteration {i}: Cost = {cost:.6f}\")\n",
        "  return W, b, cost_history\n"
      ],
      "metadata": {
        "id": "EjqlbGoAyYyL"
      },
      "execution_count": null,
      "outputs": []
    },
    {
      "cell_type": "code",
      "source": [
        "\n",
        "# Test Gradient Descent with Synthetic Data and Plot the Cost vs Iterations\n",
        "def test_gradient_descent_softmax_with_plot():\n",
        "    \"\"\"\n",
        "    Test gradient descent on synthetic data and plot the cost over iterations.\n",
        "    \"\"\"\n",
        "    # Generate synthetic data for testing\n",
        "    np.random.seed(0)\n",
        "    n, d, c = 100, 5, 3  # 100 samples, 5 features, 3 classes\n",
        "    X = np.random.rand(n, d)\n",
        "    y_indices = np.random.randint(0, c, size=n)\n",
        "    y = np.zeros((n, c))\n",
        "    y[np.arange(n), y_indices] = 1  # One-hot encoding\n",
        "\n",
        "    # Initialize weights and biases\n",
        "    W = np.random.rand(d, c)\n",
        "    b = np.random.rand(c)\n",
        "\n",
        "    # Parameters for gradient descent\n",
        "    alpha = 0.01  # Learning rate\n",
        "    n_iter = 500  # Number of iterations\n",
        "\n",
        "    # Run gradient descent\n",
        "    W_opt, b_opt, cost_history = gradient_descent_softmax(X, y, W, b, alpha, n_iter, show_cost=False)\n",
        "\n",
        "    # Plot the cost history\n",
        "    plt.figure(figsize=(8, 6))\n",
        "    plt.plot(range(n_iter), cost_history, label=\"Cost\")\n",
        "    plt.xlabel(\"Iteration\")\n",
        "    plt.ylabel(\"Cost\")\n",
        "    plt.title(f\"Cost Reduction Over Iterations (Learning Rate: {alpha})\")\n",
        "    plt.legend()\n",
        "    plt.grid()\n",
        "    plt.show()\n",
        "\n",
        "    # Final cost should ideally be less than initial cost\n",
        "    print(f\"Initial Cost: {cost_history[0]}\")\n",
        "    print(f\"Final Cost: {cost_history[-1]}\")\n",
        "\n",
        "# Run the test\n",
        "test_gradient_descent_softmax_with_plot()\n"
      ],
      "metadata": {
        "colab": {
          "base_uri": "https://localhost:8080/",
          "height": 599
        },
        "id": "bDkLeWZ48Sf7",
        "outputId": "e8b5378e-c263-4a19-f2f8-ff3bcb1a4ebe"
      },
      "execution_count": null,
      "outputs": [
        {
          "output_type": "display_data",
          "data": {
            "text/plain": [
              "<Figure size 800x600 with 1 Axes>"
            ],
            "image/png": "[encoded data removed]"
          },
          "metadata": {}
        },
        {
          "output_type": "stream",
          "name": "stdout",
          "text": [
            "Initial Cost: 1.1158608479596404\n",
            "Final Cost: 1.0892233754862581\n"
          ]
        }
      ]
    },
    {
      "cell_type": "code",
      "source": [
        "import numpy as np\n",
        "\n",
        "# Prediction Function\n",
        "def predict_softmax(X, W, b):\n",
        "    \"\"\"\n",
        "    Predict the class labels for input data.\n",
        "\n",
        "    Parameters:\n",
        "    X (numpy.ndarray): Feature matrix of shape (n, d).\n",
        "    W (numpy.ndarray): Weight matrix of shape (d, c).\n",
        "    b (numpy.ndarray): Bias vector of shape (c,).\n",
        "\n",
        "    Returns:\n",
        "    numpy.ndarray: Predicted class labels of shape (n,).\n",
        "    \"\"\"\n",
        "    z = np.dot(X, W) + b\n",
        "    y_pred = softmax(z)\n",
        "    y_pred = np.clip(y_pred, 1e-10, 1 - 1e-10)\n",
        "    return np.argmax(y_pred, axis=1)\n"
      ],
      "metadata": {
        "id": "Onf3AF5NygjU"
      },
      "execution_count": null,
      "outputs": []
    },
    {
      "cell_type": "code",
      "source": [
        "# Test function for predict_softmax\n",
        "def test_predict_softmax():\n",
        "    # Generate synthetic data for testing\n",
        "    np.random.seed(0)\n",
        "    n, d, c = 10, 5, 3  # 10 samples, 5 features, 3 classes\n",
        "    X = np.random.rand(n, d)\n",
        "    W = np.random.rand(d, c)\n",
        "    b = np.random.rand(c)\n",
        "\n",
        "    # Compute the predictions using the function\n",
        "    predictions = predict_softmax(X, W, b)\n",
        "\n",
        "    # Check the shape of the output\n",
        "    assert predictions.shape == (n,), f\"Shape mismatch: expected {(n,)}, got {predictions.shape}\"\n",
        "\n",
        "    # Verify that all predicted labels are within the range of class indices\n",
        "    assert np.all(predictions >= 0) and np.all(predictions < c), (\n",
        "        f\"Predictions out of range: expected 0 to {c-1}, got {predictions}\"\n",
        "    )\n",
        "\n",
        "    # Check that the predicted labels are integers\n",
        "    assert np.issubdtype(predictions.dtype, np.integer), f\"Predictions are not integers: {predictions.dtype}\"\n",
        "\n",
        "    print(\"All tests passed for predict_softmax!\")\n",
        "#run the test\n",
        "test_predict_softmax()\n"
      ],
      "metadata": {
        "colab": {
          "base_uri": "https://localhost:8080/"
        },
        "id": "uW-cnMKfyxde",
        "outputId": "c6e0bf00-d132-4b92-8677-0c307808c644"
      },
      "execution_count": null,
      "outputs": [
        {
          "output_type": "stream",
          "name": "stdout",
          "text": [
            "All tests passed for predict_softmax!\n"
          ]
        }
      ]
    },
    {
      "cell_type": "code",
      "source": [
        "\n",
        "def evaluate_classsification(y_true, y_pred):\n",
        "  \"\"\"\n",
        "  Evaluate the classification performance using confusion matrix, precision, recall, and F1-score.\n",
        "\n",
        "  Confusion matrix: shows the performance of the classification model. It is a table with\n",
        "  actual values(y_true) against predicted values(y_pred). It shows how many times each\n",
        "  class was correctly or incorrectly predicted.\n",
        "\n",
        "  Precision: proportion of true positive predictions out of al positive predictions made\n",
        "  by the classifier.\n",
        "\n",
        "  Parameters:\n",
        "  y_true (numpy.ndarray): True class labels of shape (n,)\n",
        "  y_pred (numpy.ndarray): Predicted class labels of shape (n,)\n",
        "\n",
        "  Returns:\n",
        "  tuple: Confusion matrix, precision, recall, and F1-score\n",
        "  \"\"\"\n",
        "  from sklearn.metrics import confusion_matrix, precision_score, recall_score, f1_score\n",
        "  cm = confusion_matrix(y_true, y_pred)\n",
        "  precision = precision_score(y_true, y_pred, average=\"weighted\", zero_division=0)\n",
        "  recall = recall_score(y_true, y_pred, average=\"weighted\", zero_division=0)\n",
        "  f1 = f1_score(y_true, y_pred, average=\"weighted\", zero_division=0)\n",
        "  # average=\"weighted\": metric is calculated individually for each class and then averaged,\n",
        "  # with the average weighted by the number of samples of each class.\n",
        "\n",
        "  #zero_division=0: if no positive predictions are made, it will return 0 instead of raising an error.\n",
        "\n",
        "  return cm, precision, recall, f1\n",
        "\n",
        "\n"
      ],
      "metadata": {
        "id": "2-JoDpI-8bJQ"
      },
      "execution_count": null,
      "outputs": []
    },
    {
      "cell_type": "code",
      "source": [
        "# Load Titanic dataset\n",
        "from google.colab import drive\n",
        "import numpy as np\n",
        "import pandas as pd\n",
        "from sklearn.metrics import confusion_matrix, precision_score, recall_score, f1_score\n",
        "\n",
        "# Mount Google Drive\n",
        "drive.mount(\"/content/drive\")\n",
        "\n",
        "# Filepath for the Titanic dataset\n",
        "filepath = \"/content/drive/MyDrive/sem3ai/Titanic-Dataset.csv\"\n",
        "df = pd.read_csv(filepath)\n",
        "\n",
        "# Check for null values and display their count\n",
        "print(df.isnull().sum())\n",
        "\n",
        "\n"
      ],
      "metadata": {
        "colab": {
          "base_uri": "https://localhost:8080/"
        },
        "id": "qKy-MsdJ9_9y",
        "outputId": "d0b1e3b1-8c6b-410c-8a3c-0255669540b0"
      },
      "execution_count": null,
      "outputs": [
        {
          "output_type": "stream",
          "name": "stdout",
          "text": [
            "Drive already mounted at /content/drive; to attempt to forcibly remount, call drive.mount(\"/content/drive\", force_remount=True).\n",
            "PassengerId      0\n",
            "Survived         0\n",
            "Pclass           0\n",
            "Name             0\n",
            "Sex              0\n",
            "Age            177\n",
            "SibSp            0\n",
            "Parch            0\n",
            "Ticket           0\n",
            "Fare             0\n",
            "Cabin          687\n",
            "Embarked         2\n",
            "dtype: int64\n"
          ]
        }
      ]
    },
    {
      "cell_type": "code",
      "source": [
        "df['Age'] = df['Age'].fillna(df['Age'].median())\n",
        "df['Cabin'] = df['Cabin'].fillna('Unknown')\n",
        "df['Embarked'] = df['Embarked'].fillna(df['Embarked'].mode()[0])\n",
        "print(df.isnull().sum())\n"
      ],
      "metadata": {
        "colab": {
          "base_uri": "https://localhost:8080/"
        },
        "id": "malQZDCAu59Z",
        "outputId": "de6a6fd5-7280-4cdb-ac0d-041b47be6d19"
      },
      "execution_count": null,
      "outputs": [
        {
          "output_type": "stream",
          "name": "stdout",
          "text": [
            "PassengerId    0\n",
            "Survived       0\n",
            "Pclass         0\n",
            "Name           0\n",
            "Sex            0\n",
            "Age            0\n",
            "SibSp          0\n",
            "Parch          0\n",
            "Ticket         0\n",
            "Fare           0\n",
            "Cabin          0\n",
            "Embarked       0\n",
            "dtype: int64\n"
          ]
        }
      ]
    },
    {
      "cell_type": "code",
      "source": [
        "#Separate the feature matrix (X) and target variable (y).\n",
        "x = df.drop('Embarked', axis=1)\n",
        "y = df['Embarked']\n",
        "print(\"Feature matrix (x): \")\n",
        "print(x.head())"
      ],
      "metadata": {
        "colab": {
          "base_uri": "https://localhost:8080/"
        },
        "id": "lmnfzQ-cvJ-9",
        "outputId": "3392bd1d-b183-4c5e-b98e-44c145933f7c"
      },
      "execution_count": null,
      "outputs": [
        {
          "output_type": "stream",
          "name": "stdout",
          "text": [
            "Feature matrix (x): \n",
            "   PassengerId  Survived  Pclass  \\\n",
            "0            1         0       3   \n",
            "1            2         1       1   \n",
            "2            3         1       3   \n",
            "3            4         1       1   \n",
            "4            5         0       3   \n",
            "\n",
            "                                                Name     Sex   Age  SibSp  \\\n",
            "0                            Braund, Mr. Owen Harris    male  22.0      1   \n",
            "1  Cumings, Mrs. John Bradley (Florence Briggs Th...  female  38.0      1   \n",
            "2                             Heikkinen, Miss. Laina  female  26.0      0   \n",
            "3       Futrelle, Mrs. Jacques Heath (Lily May Peel)  female  35.0      1   \n",
            "4                           Allen, Mr. William Henry    male  35.0      0   \n",
            "\n",
            "   Parch            Ticket     Fare    Cabin  \n",
            "0      0         A/5 21171   7.2500  Unknown  \n",
            "1      0          PC 17599  71.2833      C85  \n",
            "2      0  STON/O2. 3101282   7.9250  Unknown  \n",
            "3      0            113803  53.1000     C123  \n",
            "4      0            373450   8.0500  Unknown  \n"
          ]
        }
      ]
    },
    {
      "cell_type": "code",
      "source": [
        "print(\"\\nTarget vector (y): \")\n",
        "print(y.head())"
      ],
      "metadata": {
        "colab": {
          "base_uri": "https://localhost:8080/"
        },
        "id": "xSPHt7kCvPg4",
        "outputId": "45d09cfc-ebf5-4bf2-d348-7c73ba23592a"
      },
      "execution_count": null,
      "outputs": [
        {
          "output_type": "stream",
          "name": "stdout",
          "text": [
            "\n",
            "Target vector (y): \n",
            "0    S\n",
            "1    C\n",
            "2    S\n",
            "3    S\n",
            "4    S\n",
            "Name: Embarked, dtype: object\n"
          ]
        }
      ]
    },
    {
      "cell_type": "code",
      "source": [
        "# display information about the dataset before cleaning\n",
        "print(\"Dataset Info:\")\n",
        "x.info()"
      ],
      "metadata": {
        "colab": {
          "base_uri": "https://localhost:8080/"
        },
        "id": "IFWK7LAavWwJ",
        "outputId": "b65b64b7-856e-42e2-d71b-13ea6cff9784"
      },
      "execution_count": null,
      "outputs": [
        {
          "output_type": "stream",
          "name": "stdout",
          "text": [
            "Dataset Info:\n",
            "<class 'pandas.core.frame.DataFrame'>\n",
            "RangeIndex: 891 entries, 0 to 890\n",
            "Data columns (total 11 columns):\n",
            " #   Column       Non-Null Count  Dtype  \n",
            "---  ------       --------------  -----  \n",
            " 0   PassengerId  891 non-null    int64  \n",
            " 1   Survived     891 non-null    int64  \n",
            " 2   Pclass       891 non-null    int64  \n",
            " 3   Name         891 non-null    object \n",
            " 4   Sex          891 non-null    object \n",
            " 5   Age          891 non-null    float64\n",
            " 6   SibSp        891 non-null    int64  \n",
            " 7   Parch        891 non-null    int64  \n",
            " 8   Ticket       891 non-null    object \n",
            " 9   Fare         891 non-null    float64\n",
            " 10  Cabin        891 non-null    object \n",
            "dtypes: float64(2), int64(5), object(4)\n",
            "memory usage: 76.7+ KB\n"
          ]
        }
      ]
    },
    {
      "cell_type": "code",
      "source": [
        "#2. Constructing one hot encoding for label vector\n",
        "# apply onehotencoder to label vector\n",
        "from sklearn.preprocessing import OneHotEncoder\n",
        "encoder = OneHotEncoder(sparse_output=False)\n",
        "y_onehot = encoder.fit_transform(y.values.reshape(-1,1))\n",
        "print(y_onehot)\n",
        "\n",
        "# apply onehotencoder to categorical columns in feature matrix\n",
        "categorical_cols = ['Name', 'Sex', 'Ticket', 'Cabin']\n",
        "encoder = OneHotEncoder(sparse_output=False)\n",
        "x_onehot = encoder.fit_transform(x[categorical_cols])\n",
        "\n",
        "# convert the encoded features back to a dataframe\n",
        "x_onehot_df = pd.DataFrame(x_onehot, columns=encoder.get_feature_names_out(categorical_cols))\n",
        "\n",
        "# concatenate the onehotencoded columns with the original numeric columns\n",
        "x_numeric = x.select_dtypes(include=['float64', 'int64']) #select only numeric columns\n",
        "x_combined = pd.concat([x_numeric, x_onehot_df], axis=1)"
      ],
      "metadata": {
        "colab": {
          "base_uri": "https://localhost:8080/"
        },
        "id": "FMlnL1fyvYyK",
        "outputId": "b8276daa-843b-468c-97b8-457881ff1a1c"
      },
      "execution_count": null,
      "outputs": [
        {
          "output_type": "stream",
          "name": "stdout",
          "text": [
            "[[0. 0. 1.]\n",
            " [1. 0. 0.]\n",
            " [0. 0. 1.]\n",
            " ...\n",
            " [0. 0. 1.]\n",
            " [1. 0. 0.]\n",
            " [0. 1. 0.]]\n"
          ]
        }
      ]
    },
    {
      "cell_type": "code",
      "source": [
        "#Train test split and tsandard scaling of the data\n",
        "\n",
        "# split the data into train and test sets\n",
        "from sklearn.model_selection import train_test_split\n",
        "from sklearn.preprocessing import StandardScaler\n",
        "x_train, x_test, y_train, y_test = train_test_split(x_combined, y_onehot, test_size=0.2, random_state=42, stratify=y)\n",
        "# stratify=y: ensures that the proportion of each class label in the target variable is maintained in both taining and test sets.\n",
        "\n",
        "# initialize the scalar and scale the data\n",
        "scaler = StandardScaler()\n",
        "# standardizes numerical features by sacling then to have mean=0 and standard deviation=1\n",
        "x_train_scaled = scaler.fit_transform(x_train)\n",
        "# fit: calculates the mean and S.D of each feature from the x_train dataset\n",
        "# transform applies the standardization formula to x_train\n",
        "x_test_scaled = scaler.transform(x_test)\n",
        "# transformed using the mean and S.D. from the training daat\n",
        "# this avoids data leakage, ensuring the test set remains unseen during training\n",
        "\n",
        "# assertions to check the shape of x_train_scaled and x_test_scaled\n",
        "assert x_train_scaled.shape == (x_train.shape[0], x_train.shape[1]), f\"x_train_scaled shape mismatch: {x_train_scaled.shape}\"\n",
        "assert x_test_scaled.shape == (x_test.shape[0], x_test.shape[1]), f\"x_test_scaled shape mismatch: {x_test_scaled.shape}\"\n",
        "print(\"Shape assertions passed!\")"
      ],
      "metadata": {
        "colab": {
          "base_uri": "https://localhost:8080/"
        },
        "id": "Kq7id2wuvj-i",
        "outputId": "170fccee-5139-4c9f-dd44-9a830210b85e"
      },
      "execution_count": null,
      "outputs": [
        {
          "output_type": "stream",
          "name": "stdout",
          "text": [
            "Shape assertions passed!\n"
          ]
        }
      ]
    },
    {
      "cell_type": "code",
      "source": [
        "#Training of the softmax regression\n",
        "num_classes = y_train.shape[1] #number of classes within label vector\n",
        "num_features = x_train_scaled.shape[1] #number of input features\n",
        "W = np.zeros((num_features, num_classes))\n",
        "b = np.zeros(num_classes)\n",
        "alpha = 0.1\n",
        "n_iter = 1000\n",
        "\n",
        "print(\"Training softmax regression model:\")\n",
        "W, b, cost_history = gradient_descent_softmax(x_train_scaled, y_train, W, b, alpha, n_iter, show_cost=True)\n",
        "\n",
        "# Plot Cost Vs. Iterations:\n",
        "plt.figure(figsize=(9,6))\n",
        "plt.plot(cost_history)\n",
        "plt.xlabel(\"Iteration\", fontsize=14)\n",
        "plt.ylabel(\"Cost\", fontsize=14)\n",
        "plt.title(\"Cost vs Iteration\", fontsize=14)\n",
        "plt.tight_layout()\n",
        "plt.show()"
      ],
      "metadata": {
        "colab": {
          "base_uri": "https://localhost:8080/",
          "height": 538
        },
        "id": "Z8-JzjSfvno1",
        "outputId": "1d4eafa3-f41e-4267-9c29-bb141b4adfe1"
      },
      "execution_count": null,
      "outputs": [
        {
          "output_type": "stream",
          "name": "stdout",
          "text": [
            "Training softmax regression model:\n"
          ]
        },
        {
          "output_type": "display_data",
          "data": {
            "text/plain": [
              "<Figure size 900x600 with 1 Axes>"
            ],
            "image/png": "[encoded data removed]"
          },
          "metadata": {}
        }
      ]
    },
    {
      "cell_type": "code",
      "source": [
        "#model overfit or underfit\n",
        "y_train_pred = predict_softmax(x_train_scaled, W, b)\n",
        "y_test_pred = predict_softmax(x_test_scaled, W, b)\n",
        "\n",
        "# evaluate train and test performance\n",
        "train_cost = cost_softmax(x_train_scaled, y_train, W, b)\n",
        "test_cost = cost_softmax(x_test_scaled, y_test, W, b)\n",
        "print(f\"Train Loss (Cost): {train_cost:.4f}\")\n",
        "print(f\"\\nTest Loss (Cost): {test_cost:.4f}\")"
      ],
      "metadata": {
        "colab": {
          "base_uri": "https://localhost:8080/"
        },
        "id": "Smbs9LoBvwnA",
        "outputId": "af0c15e7-727f-4a0c-b50d-027d43504b0c"
      },
      "execution_count": null,
      "outputs": [
        {
          "output_type": "stream",
          "name": "stdout",
          "text": [
            "Train Loss (Cost): 0.0042\n",
            "\n",
            "Test Loss (Cost): 0.5494\n"
          ]
        }
      ]
    },
    {
      "cell_type": "code",
      "source": [
        "#model fit\n",
        "# converting one hot encoding into class indices\n",
        "y_test_true = np.argmax(y_test, axis=1)\n",
        "\n",
        "# accuracy on test data\n",
        "test_accuracy = np.mean(y_test_pred == y_test_true) * 100\n",
        "print(f\"Test Accuracy: {test_accuracy:.2f}%\")\n",
        "\n",
        "# # evaluation\n",
        "cm, precision, recall, f1 = evaluate_classsification(y_test_true, y_test_pred)\n",
        "print(\"\\nConfusion Matrix:\")\n",
        "print(cm)\n",
        "print(f\"\\nPrecision: {precision:.2f}\")\n",
        "print(f\"Recall: {recall:.2f}\")\n",
        "print(f\"\\nF1-Score: {f1:.2f}\")"
      ],
      "metadata": {
        "colab": {
          "base_uri": "https://localhost:8080/"
        },
        "id": "CbP0XPEXvyWg",
        "outputId": "3f543366-4b72-45e0-acd1-8352c53c2251"
      },
      "execution_count": null,
      "outputs": [
        {
          "output_type": "stream",
          "name": "stdout",
          "text": [
            "Test Accuracy: 83.24%\n",
            "\n",
            "Confusion Matrix:\n",
            "[[ 15   0  19]\n",
            " [  0   5  10]\n",
            " [  1   0 129]]\n",
            "\n",
            "Precision: 0.85\n",
            "Recall: 0.83\n",
            "\n",
            "F1-Score: 0.81\n"
          ]
        }
      ]
    }
  ]
}